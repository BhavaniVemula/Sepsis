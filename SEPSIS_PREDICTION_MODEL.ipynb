{
  "nbformat": 4,
  "nbformat_minor": 0,
  "metadata": {
    "colab": {
      "provenance": [],
      "include_colab_link": true
    },
    "kernelspec": {
      "name": "python3",
      "display_name": "Python 3"
    },
    "language_info": {
      "name": "python"
    }
  },
  "cells": [
    {
      "cell_type": "markdown",
      "metadata": {
        "id": "view-in-github",
        "colab_type": "text"
      },
      "source": [
        "<a href=\"https://colab.research.google.com/github/BhavaniVemula/Sepsis/blob/main/SEPSIS_PREDICTION_MODEL.ipynb\" target=\"_parent\"><img src=\"https://colab.research.google.com/assets/colab-badge.svg\" alt=\"Open In Colab\"/></a>"
      ]
    },
    {
      "cell_type": "code",
      "source": [
        "pip install lightgbm catboost scikit-learn"
      ],
      "metadata": {
        "colab": {
          "base_uri": "https://localhost:8080/"
        },
        "outputId": "bef8708b-5942-4c0b-bf9f-c7e0b34d2d51",
        "id": "phx4Xh47EYWW"
      },
      "execution_count": null,
      "outputs": [
        {
          "output_type": "stream",
          "name": "stdout",
          "text": [
            "Requirement already satisfied: lightgbm in /usr/local/lib/python3.10/dist-packages (4.4.0)\n",
            "Collecting catboost\n",
            "  Downloading catboost-1.2.5-cp310-cp310-manylinux2014_x86_64.whl.metadata (1.2 kB)\n",
            "Requirement already satisfied: scikit-learn in /usr/local/lib/python3.10/dist-packages (1.3.2)\n",
            "Requirement already satisfied: numpy>=1.17.0 in /usr/local/lib/python3.10/dist-packages (from lightgbm) (1.26.4)\n",
            "Requirement already satisfied: scipy in /usr/local/lib/python3.10/dist-packages (from lightgbm) (1.13.1)\n",
            "Requirement already satisfied: graphviz in /usr/local/lib/python3.10/dist-packages (from catboost) (0.20.3)\n",
            "Requirement already satisfied: matplotlib in /usr/local/lib/python3.10/dist-packages (from catboost) (3.7.1)\n",
            "Requirement already satisfied: pandas>=0.24 in /usr/local/lib/python3.10/dist-packages (from catboost) (2.1.4)\n",
            "Requirement already satisfied: plotly in /usr/local/lib/python3.10/dist-packages (from catboost) (5.15.0)\n",
            "Requirement already satisfied: six in /usr/local/lib/python3.10/dist-packages (from catboost) (1.16.0)\n",
            "Requirement already satisfied: joblib>=1.1.1 in /usr/local/lib/python3.10/dist-packages (from scikit-learn) (1.4.2)\n",
            "Requirement already satisfied: threadpoolctl>=2.0.0 in /usr/local/lib/python3.10/dist-packages (from scikit-learn) (3.5.0)\n",
            "Requirement already satisfied: python-dateutil>=2.8.2 in /usr/local/lib/python3.10/dist-packages (from pandas>=0.24->catboost) (2.8.2)\n",
            "Requirement already satisfied: pytz>=2020.1 in /usr/local/lib/python3.10/dist-packages (from pandas>=0.24->catboost) (2024.1)\n",
            "Requirement already satisfied: tzdata>=2022.1 in /usr/local/lib/python3.10/dist-packages (from pandas>=0.24->catboost) (2024.1)\n",
            "Requirement already satisfied: contourpy>=1.0.1 in /usr/local/lib/python3.10/dist-packages (from matplotlib->catboost) (1.2.1)\n",
            "Requirement already satisfied: cycler>=0.10 in /usr/local/lib/python3.10/dist-packages (from matplotlib->catboost) (0.12.1)\n",
            "Requirement already satisfied: fonttools>=4.22.0 in /usr/local/lib/python3.10/dist-packages (from matplotlib->catboost) (4.53.1)\n",
            "Requirement already satisfied: kiwisolver>=1.0.1 in /usr/local/lib/python3.10/dist-packages (from matplotlib->catboost) (1.4.5)\n",
            "Requirement already satisfied: packaging>=20.0 in /usr/local/lib/python3.10/dist-packages (from matplotlib->catboost) (24.1)\n",
            "Requirement already satisfied: pillow>=6.2.0 in /usr/local/lib/python3.10/dist-packages (from matplotlib->catboost) (9.4.0)\n",
            "Requirement already satisfied: pyparsing>=2.3.1 in /usr/local/lib/python3.10/dist-packages (from matplotlib->catboost) (3.1.2)\n",
            "Requirement already satisfied: tenacity>=6.2.0 in /usr/local/lib/python3.10/dist-packages (from plotly->catboost) (9.0.0)\n",
            "Downloading catboost-1.2.5-cp310-cp310-manylinux2014_x86_64.whl (98.2 MB)\n",
            "\u001b[2K   \u001b[90m━━━━━━━━━━━━━━━━━━━━━━━━━━━━━━━━━━━━━━━━\u001b[0m \u001b[32m98.2/98.2 MB\u001b[0m \u001b[31m9.0 MB/s\u001b[0m eta \u001b[36m0:00:00\u001b[0m\n",
            "\u001b[?25hInstalling collected packages: catboost\n",
            "Successfully installed catboost-1.2.5\n"
          ]
        }
      ]
    },
    {
      "cell_type": "markdown",
      "source": [
        "Required Libraries and importations"
      ],
      "metadata": {
        "id": "y-qjdVj7EGXL"
      }
    },
    {
      "cell_type": "code",
      "source": [
        "import pandas as pd\n",
        "from sklearn.model_selection import train_test_split\n",
        "from sklearn.preprocessing import StandardScaler\n",
        "from sklearn.metrics import (\n",
        "    accuracy_score, precision_score, recall_score, f1_score, confusion_matrix,\n",
        "    roc_auc_score, log_loss\n",
        ")\n",
        "from sklearn.svm import SVC\n",
        "from sklearn.neighbors import KNeighborsClassifier\n",
        "from sklearn.naive_bayes import GaussianNB\n",
        "from sklearn.tree import DecisionTreeClassifier\n",
        "from sklearn.ensemble import GradientBoostingClassifier, RandomForestClassifier\n",
        "from xgboost import XGBClassifier\n",
        "import lightgbm as lgb\n",
        "from catboost import CatBoostClassifier\n",
        "from sklearn.ensemble import VotingClassifier\n",
        "from sklearn.model_selection import train_test_split, RandomizedSearchCV\n",
        "import pickle\n",
        "import optuna\n",
        "from sklearn.model_selection import train_test_split, cross_val_score\n",
        "from sklearn.preprocessing import StandardScaler\n",
        "import numpy as np\n",
        "from sklearn.metrics import make_scorer, f1_score"
      ],
      "metadata": {
        "colab": {
          "base_uri": "https://localhost:8080/"
        },
        "id": "JdZfCV8dEKVV",
        "outputId": "34f8c1df-c445-4436-c3d7-cf19f443fb1e"
      },
      "execution_count": null,
      "outputs": [
        {
          "output_type": "stream",
          "name": "stderr",
          "text": [
            "/usr/local/lib/python3.10/dist-packages/dask/dataframe/__init__.py:42: FutureWarning: \n",
            "Dask dataframe query planning is disabled because dask-expr is not installed.\n",
            "\n",
            "You can install it with `pip install dask[dataframe]` or `conda install dask`.\n",
            "This will raise in a future version.\n",
            "\n",
            "  warnings.warn(msg, FutureWarning)\n"
          ]
        }
      ]
    },
    {
      "cell_type": "markdown",
      "source": [
        "MODEL TRAINING USING THE PREPROCESSED DATA"
      ],
      "metadata": {
        "id": "D4KTm0CdiaSs"
      }
    },
    {
      "cell_type": "code",
      "source": [
        "data = pd.read_csv('/content/processed_sepsis_data(Final).csv')\n",
        "data = data.dropna(subset=['SepsisLabel'])\n",
        "data['SepsisLabel'] = data['SepsisLabel'].astype(int)\n",
        "X = data.drop(['SepsisLabel', 'Gender'], axis=1)\n",
        "y = data['SepsisLabel']\n",
        "X_train, X_test, y_train, y_test = train_test_split(X, y, test_size=0.2, random_state=42)\n",
        "scaler = StandardScaler()\n",
        "X_train_scaled = scaler.fit_transform(X_train)\n",
        "X_test_scaled = scaler.transform(X_test)"
      ],
      "metadata": {
        "id": "rb2kW2ID_gJU"
      },
      "execution_count": null,
      "outputs": []
    },
    {
      "cell_type": "markdown",
      "source": [
        "Training the model using LightGBM,CatBoost,K-Nearest Neighbours,Naive bayes,XGBoost,Gradient Boosting,Decision tree and random forest"
      ],
      "metadata": {
        "id": "YDQ5iVifj9aR"
      }
    },
    {
      "cell_type": "code",
      "source": [
        "def evaluate_model_extended(model, X, y):\n",
        "    y_pred = model.predict(X)\n",
        "    y_pred_proba = model.predict_proba(X)[:, 1]\n",
        "\n",
        "    # Calculating metrics\n",
        "    accuracy = accuracy_score(y, y_pred)\n",
        "    precision = precision_score(y, y_pred)\n",
        "    recall = recall_score(y, y_pred)\n",
        "    f1 = f1_score(y, y_pred)\n",
        "    auc_roc = roc_auc_score(y, y_pred_proba)\n",
        "    logloss_value = log_loss(y, y_pred_proba)\n",
        "    conf_matrix = confusion_matrix(y, y_pred)\n",
        "    tn, fp, fn, tp = conf_matrix.ravel()\n",
        "    specificity = tn / (tn + fp)\n",
        "    false_positive_rate = fp / (fp + tn)\n",
        "    error_rate = 1 - accuracy\n",
        "\n",
        "    return {\n",
        "        \"Accuracy\": accuracy,\n",
        "        \"Precision\": precision,\n",
        "        \"Recall (Sensitivity)\": recall,\n",
        "        \"F1 Score\": f1,\n",
        "        \"Specificity\": specificity,\n",
        "        \"AUC-ROC\": auc_roc,\n",
        "        \"Log Loss\": logloss_value,\n",
        "        \"Error Rate\": error_rate,\n",
        "        \"False Positive Rate\": false_positive_rate,\n",
        "        \"Confusion Matrix\": conf_matrix\n",
        "    }\n",
        "\n",
        "results = {}\n",
        "\n",
        "# LightGBM\n",
        "lgb_model = lgb.LGBMClassifier(random_state=42)\n",
        "lgb_model.fit(X_train_scaled, y_train)\n",
        "results[\"LightGBM Training\"] = evaluate_model_extended(lgb_model, X_train_scaled, y_train)\n",
        "results[\"LightGBM Test\"] = evaluate_model_extended(lgb_model, X_test_scaled, y_test)\n",
        "\n",
        "# CatBoost\n",
        "catboost_model = CatBoostClassifier(verbose=0, random_state=42)\n",
        "catboost_model.fit(X_train_scaled, y_train)\n",
        "results[\"CatBoost Training\"] = evaluate_model_extended(catboost_model, X_train_scaled, y_train)\n",
        "results[\"CatBoost Test\"] = evaluate_model_extended(catboost_model, X_test_scaled, y_test)\n",
        "\n",
        "# K-Nearest Neighbors\n",
        "knn_model = KNeighborsClassifier()\n",
        "knn_model.fit(X_train_scaled, y_train)\n",
        "results[\"KNN Training\"] = evaluate_model_extended(knn_model, X_train_scaled, y_train)\n",
        "results[\"KNN Test\"] = evaluate_model_extended(knn_model, X_test_scaled, y_test)\n",
        "\n",
        "# Naive Bayes\n",
        "naive_bayes_model = GaussianNB()\n",
        "naive_bayes_model.fit(X_train_scaled, y_train)\n",
        "results[\"Naive Bayes Training\"] = evaluate_model_extended(naive_bayes_model, X_train_scaled, y_train)\n",
        "results[\"Naive Bayes Test\"] = evaluate_model_extended(naive_bayes_model, X_test_scaled, y_test)\n",
        "\n",
        "# XGBoost\n",
        "xgb_model = XGBClassifier(use_label_encoder=False, eval_metric='logloss', random_state=42)\n",
        "xgb_model.fit(X_train_scaled, y_train)\n",
        "results[\"XGBoost Training\"] = evaluate_model_extended(xgb_model, X_train_scaled, y_train)\n",
        "results[\"XGBoost Test\"] = evaluate_model_extended(xgb_model, X_test_scaled, y_test)\n",
        "\n",
        "# Gradient Boosting\n",
        "gb_model = GradientBoostingClassifier(random_state=42)\n",
        "gb_model.fit(X_train_scaled, y_train)\n",
        "results[\"Gradient Boosting Training\"] = evaluate_model_extended(gb_model, X_train_scaled, y_train)\n",
        "results[\"Gradient Boosting Test\"] = evaluate_model_extended(gb_model, X_test_scaled, y_test)\n",
        "\n",
        "# Random Forest\n",
        "rf_model = RandomForestClassifier(random_state=42)\n",
        "rf_model.fit(X_train_scaled, y_train)\n",
        "results[\"Random Forest Training\"] = evaluate_model_extended(rf_model, X_train_scaled, y_train)\n",
        "results[\"Random Forest Test\"] = evaluate_model_extended(rf_model, X_test_scaled, y_test)\n",
        "\n",
        "# Decision Tree\n",
        "dt_model = DecisionTreeClassifier(random_state=42)\n",
        "dt_model.fit(X_train_scaled, y_train)\n",
        "results[\"Decision Tree Training\"] = evaluate_model_extended(dt_model, X_train_scaled, y_train)\n",
        "results[\"Decision Tree Test\"] = evaluate_model_extended(dt_model, X_test_scaled, y_test)\n",
        "results_df = pd.DataFrame({key: {metric: value for metric, value in metrics.items() if metric != \"Confusion Matrix\"}for key, metrics in results.items()}).T\n",
        "print(\"Model Performance Comparison:\")\n",
        "print(results_df)\n",
        "\n",
        "# Print confusion matrices\n",
        "for model_name, metrics in results.items():\n",
        "    print(f\"{model_name} Confusion Matrix:\")\n",
        "    print(metrics[\"Confusion Matrix\"])\n",
        "    print(\"\\n\")"
      ],
      "metadata": {
        "colab": {
          "base_uri": "https://localhost:8080/"
        },
        "id": "lCpZcSFU1YlU",
        "outputId": "65079a29-28bd-40de-c738-436485982d74"
      },
      "execution_count": null,
      "outputs": [
        {
          "output_type": "stream",
          "name": "stdout",
          "text": [
            "[LightGBM] [Info] Number of positive: 74261, number of negative: 74347\n",
            "[LightGBM] [Info] Auto-choosing col-wise multi-threading, the overhead of testing was 0.019369 seconds.\n",
            "You can set `force_col_wise=true` to remove the overhead.\n",
            "[LightGBM] [Info] Total Bins 2040\n",
            "[LightGBM] [Info] Number of data points in the train set: 148608, number of used features: 8\n",
            "[LightGBM] [Info] [binary:BoostFromScore]: pavg=0.499711 -> initscore=-0.001157\n",
            "[LightGBM] [Info] Start training from score -0.001157\n"
          ]
        },
        {
          "output_type": "stream",
          "name": "stderr",
          "text": [
            "/usr/local/lib/python3.10/dist-packages/xgboost/core.py:158: UserWarning: [13:47:09] WARNING: /workspace/src/learner.cc:740: \n",
            "Parameters: { \"use_label_encoder\" } are not used.\n",
            "\n",
            "  warnings.warn(smsg, UserWarning)\n"
          ]
        },
        {
          "output_type": "stream",
          "name": "stdout",
          "text": [
            "Model Performance Comparison:\n",
            "                            Accuracy  Precision  Recall (Sensitivity)  \\\n",
            "LightGBM Training           0.949599   0.952519              0.946311   \n",
            "LightGBM Test               0.949316   0.950765              0.947956   \n",
            "CatBoost Training           0.976616   0.980152              0.972906   \n",
            "CatBoost Test               0.974241   0.976836              0.971642   \n",
            "KNN Training                0.933469   0.883965              0.997845   \n",
            "KNN Test                    0.907730   0.847668              0.994629   \n",
            "Naive Bayes Training        0.607726   0.605690              0.616057   \n",
            "Naive Bayes Test            0.610492   0.610613              0.614910   \n",
            "XGBoost Training            0.958246   0.962991              0.953071   \n",
            "XGBoost Test                0.951793   0.955451              0.948010   \n",
            "Gradient Boosting Training  0.875814   0.893255              0.853476   \n",
            "Gradient Boosting Test      0.877961   0.893194              0.859230   \n",
            "Random Forest Training      1.000000   1.000000              1.000000   \n",
            "Random Forest Test          0.988103   0.988918              0.987325   \n",
            "Decision Tree Training      1.000000   1.000000              1.000000   \n",
            "Decision Tree Test          0.965628   0.960978              0.970836   \n",
            "\n",
            "                            F1 Score  Specificity   AUC-ROC      Log Loss  \\\n",
            "LightGBM Training           0.949405     0.952883  0.983834  1.822234e-01   \n",
            "LightGBM Test               0.949359     0.950683  0.983629  1.829992e-01   \n",
            "CatBoost Training           0.976516     0.980322  0.994710  9.607646e-02   \n",
            "CatBoost Test               0.974232     0.976852  0.993306  1.024032e-01   \n",
            "KNN Training                0.937459     0.869168  0.998220  1.148581e-01   \n",
            "KNN Test                    0.915287     0.820428  0.970188  1.038332e+00   \n",
            "Naive Bayes Training        0.610830     0.599405  0.643297  6.704357e-01   \n",
            "Naive Bayes Test            0.612754     0.606054  0.644432  6.692006e-01   \n",
            "XGBoost Training            0.958005     0.963415  0.990292  1.466166e-01   \n",
            "XGBoost Test                0.951716     0.955593  0.987547  1.583961e-01   \n",
            "Gradient Boosting Training  0.872913     0.898126  0.944622  3.613743e-01   \n",
            "Gradient Boosting Test      0.875883     0.896779  0.944355  3.604976e-01   \n",
            "Random Forest Training      1.000000     1.000000  1.000000  3.422843e-02   \n",
            "Random Forest Test          0.988121     0.988885  0.998961  1.014699e-01   \n",
            "Decision Tree Training      1.000000     1.000000  1.000000  2.220446e-16   \n",
            "Decision Tree Test          0.965882     0.960395  0.965616  1.238904e+00   \n",
            "\n",
            "                            Error Rate  False Positive Rate  \n",
            "LightGBM Training             0.050401             0.047117  \n",
            "LightGBM Test                 0.050684             0.049317  \n",
            "CatBoost Training             0.023384             0.019678  \n",
            "CatBoost Test                 0.025759             0.023148  \n",
            "KNN Training                  0.066531             0.130832  \n",
            "KNN Test                      0.092270             0.179572  \n",
            "Naive Bayes Training          0.392274             0.400595  \n",
            "Naive Bayes Test              0.389508             0.393946  \n",
            "XGBoost Training              0.041754             0.036585  \n",
            "XGBoost Test                  0.048207             0.044407  \n",
            "Gradient Boosting Training    0.124186             0.101874  \n",
            "Gradient Boosting Test        0.122039             0.103221  \n",
            "Random Forest Training        0.000000             0.000000  \n",
            "Random Forest Test            0.011897             0.011115  \n",
            "Decision Tree Training        0.000000             0.000000  \n",
            "Decision Tree Test            0.034372             0.039605  \n",
            "LightGBM Training Confusion Matrix:\n",
            "[[70844  3503]\n",
            " [ 3987 70274]]\n",
            "\n",
            "\n",
            "LightGBM Test Confusion Matrix:\n",
            "[[17619   914]\n",
            " [  969 17650]]\n",
            "\n",
            "\n",
            "CatBoost Training Confusion Matrix:\n",
            "[[72884  1463]\n",
            " [ 2012 72249]]\n",
            "\n",
            "\n",
            "CatBoost Test Confusion Matrix:\n",
            "[[18104   429]\n",
            " [  528 18091]]\n",
            "\n",
            "\n",
            "KNN Training Confusion Matrix:\n",
            "[[64620  9727]\n",
            " [  160 74101]]\n",
            "\n",
            "\n",
            "KNN Test Confusion Matrix:\n",
            "[[15205  3328]\n",
            " [  100 18519]]\n",
            "\n",
            "\n",
            "Naive Bayes Training Confusion Matrix:\n",
            "[[44564 29783]\n",
            " [28512 45749]]\n",
            "\n",
            "\n",
            "Naive Bayes Test Confusion Matrix:\n",
            "[[11232  7301]\n",
            " [ 7170 11449]]\n",
            "\n",
            "\n",
            "XGBoost Training Confusion Matrix:\n",
            "[[71627  2720]\n",
            " [ 3485 70776]]\n",
            "\n",
            "\n",
            "XGBoost Test Confusion Matrix:\n",
            "[[17710   823]\n",
            " [  968 17651]]\n",
            "\n",
            "\n",
            "Gradient Boosting Training Confusion Matrix:\n",
            "[[66773  7574]\n",
            " [10881 63380]]\n",
            "\n",
            "\n",
            "Gradient Boosting Test Confusion Matrix:\n",
            "[[16620  1913]\n",
            " [ 2621 15998]]\n",
            "\n",
            "\n",
            "Random Forest Training Confusion Matrix:\n",
            "[[74347     0]\n",
            " [    0 74261]]\n",
            "\n",
            "\n",
            "Random Forest Test Confusion Matrix:\n",
            "[[18327   206]\n",
            " [  236 18383]]\n",
            "\n",
            "\n",
            "Decision Tree Training Confusion Matrix:\n",
            "[[74347     0]\n",
            " [    0 74261]]\n",
            "\n",
            "\n",
            "Decision Tree Test Confusion Matrix:\n",
            "[[17799   734]\n",
            " [  543 18076]]\n",
            "\n",
            "\n"
          ]
        }
      ]
    },
    {
      "cell_type": "markdown",
      "source": [
        "# **STACKING**"
      ],
      "metadata": {
        "id": "YEtcNlqD_oSQ"
      }
    },
    {
      "cell_type": "code",
      "source": [
        "# VOTING CLASSIFIER MODELS\n",
        "xgb_model = XGBClassifier(use_label_encoder=False, eval_metric='logloss', random_state=42)\n",
        "catboost_model = CatBoostClassifier(verbose=0, random_state=42)\n",
        "rf_model = RandomForestClassifier(random_state=42)\n",
        "voting_model = VotingClassifier(\n",
        "    estimators=[('xgb', xgb_model),('catboost', catboost_model),('rf', rf_model)],voting='soft')\n",
        "voting_model.fit(X_train_scaled, y_train)\n",
        "def evaluate_model_extended(model, X, y):\n",
        "    y_pred = model.predict(X)\n",
        "    y_pred_proba = model.predict_proba(X)[:, 1]\n",
        "    accuracy = accuracy_score(y, y_pred)\n",
        "    precision = precision_score(y, y_pred)\n",
        "    recall = recall_score(y, y_pred)\n",
        "    f1 = f1_score(y, y_pred)\n",
        "    auc_roc = roc_auc_score(y, y_pred_proba)\n",
        "    logloss_value = log_loss(y, y_pred_proba)\n",
        "    conf_matrix = confusion_matrix(y, y_pred)\n",
        "    tn, fp, fn, tp = confusion_matrix(y, y_pred).ravel()\n",
        "    specificity = tn / (tn + fp)\n",
        "    false_positive_rate = fp / (fp + tn)\n",
        "    error_rate = 1 - accuracy\n",
        "\n",
        "    return {\n",
        "        \"Accuracy\": accuracy,\n",
        "        \"Precision\": precision,\n",
        "        \"Recall (Sensitivity)\": recall,\n",
        "        \"F1 Score\": f1,\n",
        "        \"Specificity\": specificity,\n",
        "        \"AUC-ROC\": auc_roc,\n",
        "        \"Log Loss\": logloss_value,\n",
        "        \"Error Rate\": error_rate,\n",
        "        \"False Positive Rate\": false_positive_rate,\n",
        "        \"Confusion Matrix\": conf_matrix\n",
        "    }\n",
        "train_results_voting = evaluate_model_extended(voting_model, X_train_scaled, y_train)\n",
        "test_results_voting = evaluate_model_extended(voting_model, X_test_scaled, y_test)\n",
        "def print_results(results, title):\n",
        "    print(title)\n",
        "    for key, value in results.items():\n",
        "        if isinstance(value, (float, int)):\n",
        "            print(f\"{key}: {value:.4f}\")\n",
        "        else:\n",
        "            print(f\"{key}:\")\n",
        "            print(value)\n",
        "    print()\n",
        "\n",
        "print_results(train_results_voting, \"Training Performance:\")\n",
        "print_results(test_results_voting, \"Test Performance:\")"
      ],
      "metadata": {
        "colab": {
          "base_uri": "https://localhost:8080/"
        },
        "outputId": "f1488ec3-c030-4fc7-9bd7-b8c1d8d56e2a",
        "id": "1C7Ncq0pe0k_"
      },
      "execution_count": null,
      "outputs": [
        {
          "output_type": "stream",
          "name": "stderr",
          "text": [
            "/usr/local/lib/python3.10/dist-packages/xgboost/core.py:158: UserWarning: [12:45:05] WARNING: /workspace/src/learner.cc:740: \n",
            "Parameters: { \"use_label_encoder\" } are not used.\n",
            "\n",
            "  warnings.warn(smsg, UserWarning)\n"
          ]
        },
        {
          "output_type": "stream",
          "name": "stdout",
          "text": [
            "Training Performance:\n",
            "Accuracy: 0.9860\n",
            "Precision: 0.9884\n",
            "Recall (Sensitivity): 0.9837\n",
            "F1 Score: 0.9860\n",
            "Specificity: 0.9884\n",
            "AUC-ROC: 0.9995\n",
            "Log Loss: 0.0811\n",
            "Error Rate: 0.0140\n",
            "False Positive Rate: 0.0116\n",
            "Confusion Matrix:\n",
            "[[73486   861]\n",
            " [ 1214 73047]]\n",
            "\n",
            "Test Performance:\n",
            "Accuracy: 0.9792\n",
            "Precision: 0.9791\n",
            "Recall (Sensitivity): 0.9795\n",
            "F1 Score: 0.9793\n",
            "Specificity: 0.9790\n",
            "AUC-ROC: 0.9974\n",
            "Log Loss: 0.1103\n",
            "Error Rate: 0.0208\n",
            "False Positive Rate: 0.0210\n",
            "Confusion Matrix:\n",
            "[[18143   390]\n",
            " [  382 18237]]\n",
            "\n"
          ]
        }
      ]
    },
    {
      "cell_type": "markdown",
      "source": [
        "# **Training Metrics:**\n",
        "\n",
        "Accuracy: 95.82%\n",
        "\n",
        "Precision: 96.30%\n",
        "\n",
        "Recall (Sensitivity): 95.31%\n",
        "\n",
        "F1 Score: 95.80%\n",
        "\n",
        "AUC-ROC: 99.03%\n",
        "\n",
        "Log Loss: 0.1466\n",
        "\n",
        "Error Rate: 4.18%\n",
        "\n",
        "False Positive Rate: 3.66%\n"
      ],
      "metadata": {
        "id": "O9rySdnIE1vO"
      }
    },
    {
      "cell_type": "markdown",
      "source": [
        "# **TEST METRICS:**\n",
        "\n",
        "Accuracy: 95.18%\n",
        "\n",
        "Precision: 95.55%\n",
        "\n",
        "Recall (Sensitivity): 94.80%\n",
        "\n",
        "F1 Score: 95.17%\n",
        "\n",
        "AUC-ROC: 98.75%\n",
        "\n",
        "Log Loss: 0.1584\n",
        "\n",
        "Error Rate: 4.82%\n",
        "\n",
        "False Positive Rate: 4.44%"
      ],
      "metadata": {
        "id": "j90DeqLNFG3i"
      }
    },
    {
      "cell_type": "markdown",
      "source": [
        "**High AUC-ROC:** XGBoost has a very high AUC-ROC score on both the training and test datasets, indicating excellent discrimination capability between the positive and negative classes.\n",
        "\n",
        "**Balanced Performance:**The XGBoost model maintains a good balance between precision and recall, as evidenced by its F1 Score. This means it effectively manages false positives and false negatives.\n",
        "\n",
        "**Generalization: **The metrics show a small gap between training and test performance, suggesting that XGBoost generalizes well to unseen data.\n",
        "\n",
        "**Robustness:** Compared to other models like Random Forest or Decision Tree, which show perfect or near-perfect training accuracy (suggesting potential overfitting), XGBoost provides a more robust performance with slight variability that better reflects real-world conditions.\n",
        "\n",
        "**Log Loss:** XGBoost's log loss is relatively low, indicating well-calibrated predicted probabilities."
      ],
      "metadata": {
        "id": "95k4cwZ1FUPD"
      }
    },
    {
      "cell_type": "markdown",
      "source": [
        "# **Comparison with Other Models**:\n",
        "\n",
        "**Random Forest and Decision Tree** achieve perfect training scores, indicating overfitting. Their test performance is lower than XGBoost, especially in terms of generalization.\n",
        "\n",
        "**LightGBM and CatBoost** perform well, but XGBoost provides a slightly better balance and higher AUC-ROC on the test set.\n",
        "\n",
        "**Naive Bayes** shows poor performance across the board, which is expected given the dataset complexity and the simplicity of the Naive Bayes assumptions.\n",
        "\n",
        "**KNN and Gradient Boosting** show weaker test performance, particularly in terms of precision and recall, compared to XGBoost."
      ],
      "metadata": {
        "id": "IMhCFU7kFZSt"
      }
    },
    {
      "cell_type": "code",
      "source": [
        "# We selected xgboost model..."
      ],
      "metadata": {
        "id": "JB4tkzcZjtT7"
      },
      "execution_count": null,
      "outputs": []
    },
    {
      "cell_type": "markdown",
      "source": [
        "# **VISUALIZATION**"
      ],
      "metadata": {
        "id": "BrovAVrJyoHj"
      }
    },
    {
      "cell_type": "code",
      "source": [
        "import pandas as pd\n",
        "import matplotlib.pyplot as plt\n",
        "import seaborn as sns\n",
        "\n",
        "metrics = ['Accuracy', 'Precision', 'Recall (Sensitivity)', 'F1 Score', 'Specificity', 'AUC-ROC', 'Log Loss', 'Error Rate', 'False Positive Rate']\n",
        "test_results = results_df.loc[results_df.index.str.contains('Test')]\n",
        "model_names = [name.replace(' Test', '') for name in test_results.index]\n",
        "# Function to plot cumulative metrics...\n",
        "def plot_cumulative_metrics(test_results, metrics, model_names):\n",
        "    normalized_results = test_results.copy()\n",
        "    for metric in metrics:\n",
        "        if metric not in ['Log Loss', 'Error Rate', 'False Positive Rate']:\n",
        "            normalized_results[metric] = test_results[metric] / test_results[metric].max()\n",
        "\n",
        "    fig, ax = plt.subplots(figsize=(14, 8))\n",
        "    bottom = None\n",
        "    # Ploting each metric as a stacked bar,..\n",
        "    for metric in metrics:\n",
        "        color = next(ax._get_lines.prop_cycler)['color']\n",
        "        ax.bar(model_names, normalized_results[metric], bottom=bottom, label=metric, color=color)\n",
        "        if bottom is None:\n",
        "            bottom = normalized_results[metric]\n",
        "        else:\n",
        "            bottom += normalized_results[metric]\n",
        "    ax.set_title('Model Performance Comparison')\n",
        "    ax.set_ylabel('Normalized Metric Values')\n",
        "    ax.set_xlabel('Models')\n",
        "    plt.xticks(rotation=45, ha='right')\n",
        "    ax.legend(title='Metrics')\n",
        "    plt.tight_layout()\n",
        "    plt.show()\n",
        "plot_cumulative_metrics(test_results, metrics, model_names)\n"
      ],
      "metadata": {
        "colab": {
          "base_uri": "https://localhost:8080/",
          "height": 504
        },
        "id": "Fjhnz18hGObG",
        "outputId": "7aa03d65-eb6d-4d14-e158-eb6f5c0b78de"
      },
      "execution_count": null,
      "outputs": [
        {
          "output_type": "display_data",
          "data": {
            "text/plain": [
              "<Figure size 1400x800 with 1 Axes>"
            ],
            "image/png": "[encoded data removed]"
          },
          "metadata": {}
        }
      ]
    },
    {
      "cell_type": "markdown",
      "source": [
        "# **Using randomized search cv**"
      ],
      "metadata": {
        "id": "lBfuaC_ZldsS"
      }
    },
    {
      "cell_type": "code",
      "source": [
        "xgb_model = XGBClassifier(use_label_encoder=False, eval_metric='logloss')\n",
        "param_grid = {'n_estimators': [100, 200, 300, 400, 500],' max_depth': [3, 4, 5, 6, 7],'learning_rate': [0.01, 0.05, 0.1, 0.15],'subsample': [0.6, 0.7, 0.8, 0.9, 1.0],'colsample_bytree': [0.6, 0.7, 0.8, 0.9, 1.0],'gamma': [0, 0.1, 0.2, 0.3],'reg_alpha': [0, 0.01, 0.1, 1],'reg_lambda': [0, 0.01, 0.1, 1]}\n",
        "def evaluate_model(model, X, y, dataset_name=\"Dataset\"):\n",
        "    y_pred = model.predict(X)\n",
        "    accuracy = accuracy_score(y, y_pred)\n",
        "    precision = precision_score(y, y_pred)\n",
        "    recall = recall_score(y, y_pred)\n",
        "    f1 = f1_score(y, y_pred)\n",
        "    conf_matrix = confusion_matrix(y, y_pred)\n",
        "    print(f\"{dataset_name} Performance:\")\n",
        "    print(\"Accuracy:\", accuracy)\n",
        "    print(\"Precision:\", precision)\n",
        "    print(\"Recall:\", recall)\n",
        "    print(\"F1 Score:\", f1)\n",
        "    print(\"Confusion Matrix:\\n\", conf_matrix)\n",
        "    return accuracy, precision, recall, f1, conf_matrix\n",
        "#RandomizedSearchCV\n",
        "random_search = RandomizedSearchCV(estimator=xgb_model,param_distributions=param_grid,n_iter=50,scoring='f1',cv=3, verbose=1,random_state=42,n_jobs=-1  )\n",
        "random_search.fit(X_train_scaled, y_train)\n",
        "print(\"Best parameters found: \", random_search.best_params_)\n",
        "best_model = random_search.best_estimator_\n",
        "train_results = evaluate_model(best_model, X_train_scaled, y_train, dataset_name=\"Training\")\n",
        "test_results = evaluate_model(best_model, X_test_scaled, y_test, dataset_name=\"Test\")"
      ],
      "metadata": {
        "colab": {
          "base_uri": "https://localhost:8080/"
        },
        "id": "Zmt7ZGu0Cd_W",
        "outputId": "54ee590a-73bc-4f18-9f9f-c2093cc21ad0"
      },
      "execution_count": null,
      "outputs": [
        {
          "output_type": "stream",
          "name": "stdout",
          "text": [
            "Fitting 3 folds for each of 50 candidates, totalling 150 fits\n"
          ]
        },
        {
          "output_type": "stream",
          "name": "stderr",
          "text": [
            "/usr/local/lib/python3.10/dist-packages/xgboost/core.py:158: UserWarning: [04:24:56] WARNING: /workspace/src/learner.cc:740: \n",
            "Parameters: { \"use_label_encoder\" } are not used.\n",
            "\n",
            "  warnings.warn(smsg, UserWarning)\n"
          ]
        },
        {
          "output_type": "stream",
          "name": "stdout",
          "text": [
            "Best parameters found:  {'subsample': 1.0, 'reg_lambda': 1, 'reg_alpha': 0.01, 'n_estimators': 400, 'max_depth': 7, 'learning_rate': 0.15, 'gamma': 0.2, 'colsample_bytree': 0.9}\n",
            "Training Performance:\n",
            "Accuracy: 0.9907743863049095\n",
            "Precision: 0.9942633177823587\n",
            "Recall: 0.9872342144598106\n",
            "F1 Score: 0.9907362987087576\n",
            "Confusion Matrix:\n",
            " [[73924   423]\n",
            " [  948 73313]]\n",
            "Test Performance:\n",
            "Accuracy: 0.9794089147286822\n",
            "Precision: 0.9817073170731707\n",
            "Recall: 0.9771201460873301\n",
            "F1 Score: 0.9794083604748188\n",
            "Confusion Matrix:\n",
            " [[18194   339]\n",
            " [  426 18193]]\n",
            "Best model and scaler have been saved.\n"
          ]
        }
      ]
    },
    {
      "cell_type": "markdown",
      "source": [
        "I also want to try Baysian optimization"
      ],
      "metadata": {
        "id": "mxfGIiAzlqEw"
      }
    },
    {
      "cell_type": "markdown",
      "source": [
        "**Using OPTUNA**"
      ],
      "metadata": {
        "id": "pNUuTVIYmJxn"
      }
    },
    {
      "cell_type": "code",
      "source": [
        "pip install optuna"
      ],
      "metadata": {
        "colab": {
          "base_uri": "https://localhost:8080/"
        },
        "id": "4T0m8JZUpbDi",
        "outputId": "416357a8-32c3-4c6e-b4a7-477df167801b"
      },
      "execution_count": null,
      "outputs": [
        {
          "output_type": "stream",
          "name": "stdout",
          "text": [
            "Collecting optuna\n",
            "  Downloading optuna-3.6.1-py3-none-any.whl.metadata (17 kB)\n",
            "Collecting alembic>=1.5.0 (from optuna)\n",
            "  Downloading alembic-1.13.2-py3-none-any.whl.metadata (7.4 kB)\n",
            "Collecting colorlog (from optuna)\n",
            "  Downloading colorlog-6.8.2-py3-none-any.whl.metadata (10 kB)\n",
            "Requirement already satisfied: numpy in /usr/local/lib/python3.10/dist-packages (from optuna) (1.26.4)\n",
            "Requirement already satisfied: packaging>=20.0 in /usr/local/lib/python3.10/dist-packages (from optuna) (24.1)\n",
            "Requirement already satisfied: sqlalchemy>=1.3.0 in /usr/local/lib/python3.10/dist-packages (from optuna) (2.0.32)\n",
            "Requirement already satisfied: tqdm in /usr/local/lib/python3.10/dist-packages (from optuna) (4.66.5)\n",
            "Requirement already satisfied: PyYAML in /usr/local/lib/python3.10/dist-packages (from optuna) (6.0.2)\n",
            "Collecting Mako (from alembic>=1.5.0->optuna)\n",
            "  Downloading Mako-1.3.5-py3-none-any.whl.metadata (2.9 kB)\n",
            "Requirement already satisfied: typing-extensions>=4 in /usr/local/lib/python3.10/dist-packages (from alembic>=1.5.0->optuna) (4.12.2)\n",
            "Requirement already satisfied: greenlet!=0.4.17 in /usr/local/lib/python3.10/dist-packages (from sqlalchemy>=1.3.0->optuna) (3.0.3)\n",
            "Requirement already satisfied: MarkupSafe>=0.9.2 in /usr/local/lib/python3.10/dist-packages (from Mako->alembic>=1.5.0->optuna) (2.1.5)\n",
            "Downloading optuna-3.6.1-py3-none-any.whl (380 kB)\n",
            "\u001b[2K   \u001b[90m━━━━━━━━━━━━━━━━━━━━━━━━━━━━━━━━━━━━━━━━\u001b[0m \u001b[32m380.1/380.1 kB\u001b[0m \u001b[31m7.6 MB/s\u001b[0m eta \u001b[36m0:00:00\u001b[0m\n",
            "\u001b[?25hDownloading alembic-1.13.2-py3-none-any.whl (232 kB)\n",
            "\u001b[2K   \u001b[90m━━━━━━━━━━━━━━━━━━━━━━━━━━━━━━━━━━━━━━━━\u001b[0m \u001b[32m233.0/233.0 kB\u001b[0m \u001b[31m17.9 MB/s\u001b[0m eta \u001b[36m0:00:00\u001b[0m\n",
            "\u001b[?25hDownloading colorlog-6.8.2-py3-none-any.whl (11 kB)\n",
            "Downloading Mako-1.3.5-py3-none-any.whl (78 kB)\n",
            "\u001b[2K   \u001b[90m━━━━━━━━━━━━━━━━━━━━━━━━━━━━━━━━━━━━━━━━\u001b[0m \u001b[32m78.6/78.6 kB\u001b[0m \u001b[31m6.5 MB/s\u001b[0m eta \u001b[36m0:00:00\u001b[0m\n",
            "\u001b[?25hInstalling collected packages: Mako, colorlog, alembic, optuna\n",
            "Successfully installed Mako-1.3.5 alembic-1.13.2 colorlog-6.8.2 optuna-3.6.1\n"
          ]
        }
      ]
    },
    {
      "cell_type": "code",
      "source": [
        "def objective(trial):\n",
        "    # Suggesting hyperparameters....\n",
        "    params = {'n_estimators': trial.suggest_int('n_estimators', 100, 500),'max_depth': trial.suggest_int('max_depth', 3, 10),'learning_rate': trial.suggest_loguniform('learning_rate', 0.01, 0.3),'subsample': trial.suggest_float('subsample', 0.6, 1.0),'colsample_bytree': trial.suggest_float('colsample_bytree', 0.6, 1.0),\n",
        "        'gamma': trial.suggest_float('gamma', 0.0, 0.5),'reg_alpha': trial.suggest_float('reg_alpha', 0.0, 1.0),'reg_lambda': trial.suggest_float('reg_lambda', 0.0, 1.0),'eval_metric': 'logloss','use_label_encoder': False }\n",
        "\n",
        "    model = XGBClassifier(**params)\n",
        "    cv_scores = cross_val_score(model, X_train_scaled, y_train, cv=5, scoring=make_scorer(f1_score))\n",
        "    return cv_scores.mean()\n",
        "study = optuna.create_study(direction='maximize')\n",
        "study.optimize(objective, n_trials=50, n_jobs=-1, timeout=600)\n",
        "print(\"Best parameters found: \", study.best_params)\n",
        "best_params = study.best_params\n",
        "optimized_xgb_model = XGBClassifier(**best_params)\n",
        "optimized_xgb_model.fit(X_train_scaled, y_train)\n",
        "# Evaluating the optimized model on the test data...\n",
        "def evaluate_model(model, X, y, dataset_name=\"Dataset\"):\n",
        "    y_pred = model.predict(X)\n",
        "    accuracy = accuracy_score(y, y_pred)\n",
        "    precision = precision_score(y, y_pred)\n",
        "    recall = recall_score(y, y_pred)\n",
        "    f1 = f1_score(y, y_pred)\n",
        "    conf_matrix = confusion_matrix(y, y_pred)\n",
        "    print(f\"{dataset_name} Performance:\")\n",
        "    print(\"Accuracy:\", accuracy)\n",
        "    print(\"Precision:\", precision)\n",
        "    print(\"Recall:\", recall)\n",
        "    print(\"F1 Score:\", f1)\n",
        "    print(\"Confusion Matrix:\\n\", conf_matrix)\n",
        "    return accuracy, precision, recall, f1, conf_matrix\n",
        "# Evaluation\n",
        "train_results_optimized = evaluate_model(optimized_xgb_model, X_train_scaled, y_train, dataset_name=\"Training\")\n",
        "test_results_optimized = evaluate_model(optimized_xgb_model, X_test_scaled, y_test, dataset_name=\"Test\")\n"
      ],
      "metadata": {
        "colab": {
          "base_uri": "https://localhost:8080/"
        },
        "id": "IHM6WI2cyRIF",
        "outputId": "5ac11fde-b89d-4a5a-b451-0c5cd0a7951a"
      },
      "execution_count": null,
      "outputs": [
        {
          "output_type": "stream",
          "name": "stderr",
          "text": [
            "[I 2024-08-11 11:12:26,054] A new study created in memory with name: no-name-3f456250-7f4b-4d27-b820-a80c119c27c4\n",
            "<ipython-input-7-8d40e23da1f2>:31: FutureWarning: suggest_loguniform has been deprecated in v3.0.0. This feature will be removed in v6.0.0. See https://github.com/optuna/optuna/releases/tag/v3.0.0. Use suggest_float(..., log=True) instead.\n",
            "  'learning_rate': trial.suggest_loguniform('learning_rate', 0.01, 0.3),\n",
            "[I 2024-08-11 11:13:00,631] Trial 0 finished with value: 0.8687978363317054 and parameters: {'n_estimators': 407, 'max_depth': 4, 'learning_rate': 0.013264467574372897, 'subsample': 0.6499831694048886, 'colsample_bytree': 0.6092443462927485, 'gamma': 0.40540018768730374, 'reg_alpha': 0.7190940494242868, 'reg_lambda': 0.7172880722560492}. Best is trial 0 with value: 0.8687978363317054.\n",
            "<ipython-input-7-8d40e23da1f2>:31: FutureWarning: suggest_loguniform has been deprecated in v3.0.0. This feature will be removed in v6.0.0. See https://github.com/optuna/optuna/releases/tag/v3.0.0. Use suggest_float(..., log=True) instead.\n",
            "  'learning_rate': trial.suggest_loguniform('learning_rate', 0.01, 0.3),\n",
            "[I 2024-08-11 11:13:08,844] Trial 1 finished with value: 0.9127975762753909 and parameters: {'n_estimators': 291, 'max_depth': 7, 'learning_rate': 0.01999088370095776, 'subsample': 0.7722033818722591, 'colsample_bytree': 0.924425554975966, 'gamma': 0.12524890418638362, 'reg_alpha': 0.12279822604298662, 'reg_lambda': 0.5638014184145298}. Best is trial 1 with value: 0.9127975762753909.\n",
            "<ipython-input-7-8d40e23da1f2>:31: FutureWarning: suggest_loguniform has been deprecated in v3.0.0. This feature will be removed in v6.0.0. See https://github.com/optuna/optuna/releases/tag/v3.0.0. Use suggest_float(..., log=True) instead.\n",
            "  'learning_rate': trial.suggest_loguniform('learning_rate', 0.01, 0.3),\n",
            "[I 2024-08-11 11:13:30,814] Trial 3 finished with value: 0.8913025149994309 and parameters: {'n_estimators': 260, 'max_depth': 4, 'learning_rate': 0.04234944968685278, 'subsample': 0.7210966109211441, 'colsample_bytree': 0.7428353629688046, 'gamma': 0.08545123428231677, 'reg_alpha': 0.1941433984920682, 'reg_lambda': 0.2377798772041786}. Best is trial 1 with value: 0.9127975762753909.\n",
            "<ipython-input-7-8d40e23da1f2>:31: FutureWarning: suggest_loguniform has been deprecated in v3.0.0. This feature will be removed in v6.0.0. See https://github.com/optuna/optuna/releases/tag/v3.0.0. Use suggest_float(..., log=True) instead.\n",
            "  'learning_rate': trial.suggest_loguniform('learning_rate', 0.01, 0.3),\n",
            "[I 2024-08-11 11:13:48,654] Trial 2 finished with value: 0.9167810672699097 and parameters: {'n_estimators': 185, 'max_depth': 10, 'learning_rate': 0.0128733568653985, 'subsample': 0.6687441152969176, 'colsample_bytree': 0.7356565765856595, 'gamma': 0.17475016899248053, 'reg_alpha': 0.1893857398366372, 'reg_lambda': 0.7342788732582165}. Best is trial 2 with value: 0.9167810672699097.\n",
            "<ipython-input-7-8d40e23da1f2>:31: FutureWarning: suggest_loguniform has been deprecated in v3.0.0. This feature will be removed in v6.0.0. See https://github.com/optuna/optuna/releases/tag/v3.0.0. Use suggest_float(..., log=True) instead.\n",
            "  'learning_rate': trial.suggest_loguniform('learning_rate', 0.01, 0.3),\n",
            "[I 2024-08-11 11:14:21,445] Trial 5 finished with value: 0.8644423584382779 and parameters: {'n_estimators': 418, 'max_depth': 3, 'learning_rate': 0.03623494451513359, 'subsample': 0.6849940552958144, 'colsample_bytree': 0.941620452746956, 'gamma': 0.2683981032772443, 'reg_alpha': 0.40150985571410613, 'reg_lambda': 0.6109665827008955}. Best is trial 2 with value: 0.9167810672699097.\n",
            "<ipython-input-7-8d40e23da1f2>:31: FutureWarning: suggest_loguniform has been deprecated in v3.0.0. This feature will be removed in v6.0.0. See https://github.com/optuna/optuna/releases/tag/v3.0.0. Use suggest_float(..., log=True) instead.\n",
            "  'learning_rate': trial.suggest_loguniform('learning_rate', 0.01, 0.3),\n",
            "[I 2024-08-11 11:14:23,130] Trial 4 finished with value: 0.9758065526917827 and parameters: {'n_estimators': 276, 'max_depth': 9, 'learning_rate': 0.15505190983507142, 'subsample': 0.960409667252908, 'colsample_bytree': 0.8767674007737651, 'gamma': 0.007178986545215649, 'reg_alpha': 0.9023118232702237, 'reg_lambda': 0.24956738021362435}. Best is trial 4 with value: 0.9758065526917827.\n",
            "<ipython-input-7-8d40e23da1f2>:31: FutureWarning: suggest_loguniform has been deprecated in v3.0.0. This feature will be removed in v6.0.0. See https://github.com/optuna/optuna/releases/tag/v3.0.0. Use suggest_float(..., log=True) instead.\n",
            "  'learning_rate': trial.suggest_loguniform('learning_rate', 0.01, 0.3),\n",
            "[I 2024-08-11 11:14:47,262] Trial 7 finished with value: 0.8333332885015696 and parameters: {'n_estimators': 266, 'max_depth': 4, 'learning_rate': 0.011117744306291621, 'subsample': 0.6659554162230521, 'colsample_bytree': 0.9443387535317382, 'gamma': 0.17904911511280192, 'reg_alpha': 0.4817497810698895, 'reg_lambda': 0.28313325548653334}. Best is trial 4 with value: 0.9758065526917827.\n",
            "<ipython-input-7-8d40e23da1f2>:31: FutureWarning: suggest_loguniform has been deprecated in v3.0.0. This feature will be removed in v6.0.0. See https://github.com/optuna/optuna/releases/tag/v3.0.0. Use suggest_float(..., log=True) instead.\n",
            "  'learning_rate': trial.suggest_loguniform('learning_rate', 0.01, 0.3),\n",
            "[I 2024-08-11 11:14:58,590] Trial 6 finished with value: 0.911322940051589 and parameters: {'n_estimators': 283, 'max_depth': 7, 'learning_rate': 0.017559495430222012, 'subsample': 0.7889963763768632, 'colsample_bytree': 0.6151728445611259, 'gamma': 0.36923152112832613, 'reg_alpha': 0.07906305573238925, 'reg_lambda': 0.821442107231925}. Best is trial 4 with value: 0.9758065526917827.\n",
            "<ipython-input-7-8d40e23da1f2>:31: FutureWarning: suggest_loguniform has been deprecated in v3.0.0. This feature will be removed in v6.0.0. See https://github.com/optuna/optuna/releases/tag/v3.0.0. Use suggest_float(..., log=True) instead.\n",
            "  'learning_rate': trial.suggest_loguniform('learning_rate', 0.01, 0.3),\n",
            "[I 2024-08-11 11:15:27,825] Trial 9 finished with value: 0.888361682176327 and parameters: {'n_estimators': 281, 'max_depth': 5, 'learning_rate': 0.029555582020087262, 'subsample': 0.8537292401136294, 'colsample_bytree': 0.9227383756260095, 'gamma': 0.33059604223960615, 'reg_alpha': 0.5633727812355035, 'reg_lambda': 0.9111507268456212}. Best is trial 4 with value: 0.9758065526917827.\n",
            "<ipython-input-7-8d40e23da1f2>:31: FutureWarning: suggest_loguniform has been deprecated in v3.0.0. This feature will be removed in v6.0.0. See https://github.com/optuna/optuna/releases/tag/v3.0.0. Use suggest_float(..., log=True) instead.\n",
            "  'learning_rate': trial.suggest_loguniform('learning_rate', 0.01, 0.3),\n",
            "[I 2024-08-11 11:15:52,566] Trial 8 finished with value: 0.9781132981160077 and parameters: {'n_estimators': 406, 'max_depth': 9, 'learning_rate': 0.16570875435616303, 'subsample': 0.903411527822541, 'colsample_bytree': 0.7104199680143544, 'gamma': 0.24684938922880095, 'reg_alpha': 0.4701395903357324, 'reg_lambda': 0.629245918945408}. Best is trial 8 with value: 0.9781132981160077.\n",
            "<ipython-input-7-8d40e23da1f2>:31: FutureWarning: suggest_loguniform has been deprecated in v3.0.0. This feature will be removed in v6.0.0. See https://github.com/optuna/optuna/releases/tag/v3.0.0. Use suggest_float(..., log=True) instead.\n",
            "  'learning_rate': trial.suggest_loguniform('learning_rate', 0.01, 0.3),\n",
            "[I 2024-08-11 11:16:33,328] Trial 11 finished with value: 0.9737492313176951 and parameters: {'n_estimators': 488, 'max_depth': 9, 'learning_rate': 0.2822448128812219, 'subsample': 0.9777505056763596, 'colsample_bytree': 0.6959166728929447, 'gamma': 0.494734931836431, 'reg_alpha': 0.9862437221259014, 'reg_lambda': 0.41244452627957595}. Best is trial 8 with value: 0.9781132981160077.\n",
            "<ipython-input-7-8d40e23da1f2>:31: FutureWarning: suggest_loguniform has been deprecated in v3.0.0. This feature will be removed in v6.0.0. See https://github.com/optuna/optuna/releases/tag/v3.0.0. Use suggest_float(..., log=True) instead.\n",
            "  'learning_rate': trial.suggest_loguniform('learning_rate', 0.01, 0.3),\n",
            "[I 2024-08-11 11:16:38,420] Trial 10 finished with value: 0.9782936384292477 and parameters: {'n_estimators': 487, 'max_depth': 10, 'learning_rate': 0.15414436919665467, 'subsample': 0.9425339772532799, 'colsample_bytree': 0.64765136559998, 'gamma': 0.25145709587831117, 'reg_alpha': 0.26772789818276044, 'reg_lambda': 0.3103405112434501}. Best is trial 10 with value: 0.9782936384292477.\n",
            "<ipython-input-7-8d40e23da1f2>:31: FutureWarning: suggest_loguniform has been deprecated in v3.0.0. This feature will be removed in v6.0.0. See https://github.com/optuna/optuna/releases/tag/v3.0.0. Use suggest_float(..., log=True) instead.\n",
            "  'learning_rate': trial.suggest_loguniform('learning_rate', 0.01, 0.3),\n",
            "[I 2024-08-11 11:16:53,306] Trial 12 finished with value: 0.957384687839788 and parameters: {'n_estimators': 100, 'max_depth': 9, 'learning_rate': 0.13948787480310348, 'subsample': 0.9420470959132844, 'colsample_bytree': 0.8317526693330408, 'gamma': 0.03590908513561741, 'reg_alpha': 0.9067652427406648, 'reg_lambda': 0.022758229988784073}. Best is trial 10 with value: 0.9782936384292477.\n",
            "<ipython-input-7-8d40e23da1f2>:31: FutureWarning: suggest_loguniform has been deprecated in v3.0.0. This feature will be removed in v6.0.0. See https://github.com/optuna/optuna/releases/tag/v3.0.0. Use suggest_float(..., log=True) instead.\n",
            "  'learning_rate': trial.suggest_loguniform('learning_rate', 0.01, 0.3),\n",
            "[I 2024-08-11 11:18:11,414] Trial 13 finished with value: 0.9781523831122136 and parameters: {'n_estimators': 497, 'max_depth': 10, 'learning_rate': 0.0946086354638357, 'subsample': 0.8903587899606201, 'colsample_bytree': 0.6742593276364115, 'gamma': 0.26429311023189356, 'reg_alpha': 0.3378568597834024, 'reg_lambda': 0.012714907508349471}. Best is trial 10 with value: 0.9782936384292477.\n",
            "<ipython-input-7-8d40e23da1f2>:31: FutureWarning: suggest_loguniform has been deprecated in v3.0.0. This feature will be removed in v6.0.0. See https://github.com/optuna/optuna/releases/tag/v3.0.0. Use suggest_float(..., log=True) instead.\n",
            "  'learning_rate': trial.suggest_loguniform('learning_rate', 0.01, 0.3),\n",
            "[I 2024-08-11 11:18:29,396] Trial 14 finished with value: 0.9777233560835942 and parameters: {'n_estimators': 489, 'max_depth': 10, 'learning_rate': 0.08515376508417712, 'subsample': 0.8852606133195661, 'colsample_bytree': 0.6804724544974561, 'gamma': 0.2329208447598186, 'reg_alpha': 0.3571523643501917, 'reg_lambda': 0.46613867367913714}. Best is trial 10 with value: 0.9782936384292477.\n",
            "<ipython-input-7-8d40e23da1f2>:31: FutureWarning: suggest_loguniform has been deprecated in v3.0.0. This feature will be removed in v6.0.0. See https://github.com/optuna/optuna/releases/tag/v3.0.0. Use suggest_float(..., log=True) instead.\n",
            "  'learning_rate': trial.suggest_loguniform('learning_rate', 0.01, 0.3),\n",
            "[I 2024-08-11 11:19:24,657] Trial 16 finished with value: 0.9656196452326812 and parameters: {'n_estimators': 356, 'max_depth': 8, 'learning_rate': 0.07374226488661154, 'subsample': 0.8439583479249716, 'colsample_bytree': 0.7821653875685134, 'gamma': 0.30772185941424074, 'reg_alpha': 0.2893940744685565, 'reg_lambda': 0.0020442417899861603}. Best is trial 10 with value: 0.9782936384292477.\n",
            "<ipython-input-7-8d40e23da1f2>:31: FutureWarning: suggest_loguniform has been deprecated in v3.0.0. This feature will be removed in v6.0.0. See https://github.com/optuna/optuna/releases/tag/v3.0.0. Use suggest_float(..., log=True) instead.\n",
            "  'learning_rate': trial.suggest_loguniform('learning_rate', 0.01, 0.3),\n",
            "[I 2024-08-11 11:19:47,272] Trial 15 finished with value: 0.9778148333556071 and parameters: {'n_estimators': 492, 'max_depth': 10, 'learning_rate': 0.07880040920426717, 'subsample': 0.8677007259294803, 'colsample_bytree': 0.6674986479618455, 'gamma': 0.26836733832092907, 'reg_alpha': 0.3519685434501556, 'reg_lambda': 0.0038123130855990395}. Best is trial 10 with value: 0.9782936384292477.\n",
            "<ipython-input-7-8d40e23da1f2>:31: FutureWarning: suggest_loguniform has been deprecated in v3.0.0. This feature will be removed in v6.0.0. See https://github.com/optuna/optuna/releases/tag/v3.0.0. Use suggest_float(..., log=True) instead.\n",
            "  'learning_rate': trial.suggest_loguniform('learning_rate', 0.01, 0.3),\n",
            "[I 2024-08-11 11:20:17,067] Trial 17 finished with value: 0.9603884283358161 and parameters: {'n_estimators': 499, 'max_depth': 6, 'learning_rate': 0.09438384450920789, 'subsample': 0.9211654649263157, 'colsample_bytree': 0.6436920073583301, 'gamma': 0.426892835526925, 'reg_alpha': 0.013456975328306031, 'reg_lambda': 0.12875403194904458}. Best is trial 10 with value: 0.9782936384292477.\n",
            "<ipython-input-7-8d40e23da1f2>:31: FutureWarning: suggest_loguniform has been deprecated in v3.0.0. This feature will be removed in v6.0.0. See https://github.com/optuna/optuna/releases/tag/v3.0.0. Use suggest_float(..., log=True) instead.\n",
            "  'learning_rate': trial.suggest_loguniform('learning_rate', 0.01, 0.3),\n",
            "[I 2024-08-11 11:20:32,422] Trial 18 finished with value: 0.9714942155751874 and parameters: {'n_estimators': 443, 'max_depth': 6, 'learning_rate': 0.29542607019292144, 'subsample': 0.9268114374572798, 'colsample_bytree': 0.6445144491622523, 'gamma': 0.4328852536224222, 'reg_alpha': 0.6228342670981688, 'reg_lambda': 0.15444972411507074}. Best is trial 10 with value: 0.9782936384292477.\n",
            "<ipython-input-7-8d40e23da1f2>:31: FutureWarning: suggest_loguniform has been deprecated in v3.0.0. This feature will be removed in v6.0.0. See https://github.com/optuna/optuna/releases/tag/v3.0.0. Use suggest_float(..., log=True) instead.\n",
            "  'learning_rate': trial.suggest_loguniform('learning_rate', 0.01, 0.3),\n",
            "[I 2024-08-11 11:21:23,375] Trial 19 finished with value: 0.9799591986420193 and parameters: {'n_estimators': 437, 'max_depth': 8, 'learning_rate': 0.27020895963874386, 'subsample': 0.8167858843144821, 'colsample_bytree': 0.9996764442379595, 'gamma': 0.17924438607033763, 'reg_alpha': 0.6692368726475151, 'reg_lambda': 0.38992565529297085}. Best is trial 19 with value: 0.9799591986420193.\n",
            "<ipython-input-7-8d40e23da1f2>:31: FutureWarning: suggest_loguniform has been deprecated in v3.0.0. This feature will be removed in v6.0.0. See https://github.com/optuna/optuna/releases/tag/v3.0.0. Use suggest_float(..., log=True) instead.\n",
            "  'learning_rate': trial.suggest_loguniform('learning_rate', 0.01, 0.3),\n",
            "[I 2024-08-11 11:21:26,250] Trial 20 finished with value: 0.9714035545899545 and parameters: {'n_estimators': 355, 'max_depth': 8, 'learning_rate': 0.11620658379829008, 'subsample': 0.9993192016672592, 'colsample_bytree': 0.8219987636848638, 'gamma': 0.16865100224565366, 'reg_alpha': 0.24301027883861215, 'reg_lambda': 0.38965263897737434}. Best is trial 19 with value: 0.9799591986420193.\n",
            "<ipython-input-7-8d40e23da1f2>:31: FutureWarning: suggest_loguniform has been deprecated in v3.0.0. This feature will be removed in v6.0.0. See https://github.com/optuna/optuna/releases/tag/v3.0.0. Use suggest_float(..., log=True) instead.\n",
            "  'learning_rate': trial.suggest_loguniform('learning_rate', 0.01, 0.3),\n",
            "[I 2024-08-11 11:22:25,671] Trial 21 finished with value: 0.9791525905536431 and parameters: {'n_estimators': 348, 'max_depth': 8, 'learning_rate': 0.21845176656781912, 'subsample': 0.6123408637738822, 'colsample_bytree': 0.9882995261380803, 'gamma': 0.17377404350020959, 'reg_alpha': 0.7289089106718282, 'reg_lambda': 0.41402317199982086}. Best is trial 19 with value: 0.9799591986420193.\n",
            "<ipython-input-7-8d40e23da1f2>:31: FutureWarning: suggest_loguniform has been deprecated in v3.0.0. This feature will be removed in v6.0.0. See https://github.com/optuna/optuna/releases/tag/v3.0.0. Use suggest_float(..., log=True) instead.\n",
            "  'learning_rate': trial.suggest_loguniform('learning_rate', 0.01, 0.3),\n",
            "[I 2024-08-11 11:22:37,843] Trial 22 finished with value: 0.9791914604845042 and parameters: {'n_estimators': 450, 'max_depth': 8, 'learning_rate': 0.21127743066281113, 'subsample': 0.8214382802936582, 'colsample_bytree': 0.7770901579342548, 'gamma': 0.21501436784930883, 'reg_alpha': 0.709530958165388, 'reg_lambda': 0.34116978703448597}. Best is trial 19 with value: 0.9799591986420193.\n",
            "[I 2024-08-11 11:23:05,170] Trial 23 finished with value: 0.9793343411231643 and parameters: {'n_estimators': 367, 'max_depth': 8, 'learning_rate': 0.2124009098416806, 'subsample': 0.7378417420518877, 'colsample_bytree': 0.9848568832519939, 'gamma': 0.2075898680588167, 'reg_alpha': 0.7302801871752137, 'reg_lambda': 0.3361038768372867}. Best is trial 19 with value: 0.9799591986420193.\n"
          ]
        },
        {
          "output_type": "stream",
          "name": "stdout",
          "text": [
            "Best parameters found:  {'n_estimators': 437, 'max_depth': 8, 'learning_rate': 0.27020895963874386, 'subsample': 0.8167858843144821, 'colsample_bytree': 0.9996764442379595, 'gamma': 0.17924438607033763, 'reg_alpha': 0.6692368726475151, 'reg_lambda': 0.38992565529297085}\n",
            "Training Performance:\n",
            "Accuracy: 0.9997106481481481\n",
            "Precision: 0.9999595818064237\n",
            "Recall: 0.9994613592599076\n",
            "F1 Score: 0.9997104084587669\n",
            "Confusion Matrix:\n",
            " [[74344     3]\n",
            " [   40 74221]]\n",
            "Test Performance:\n",
            "Accuracy: 0.9827465546942291\n",
            "Precision: 0.9821907520652291\n",
            "Recall: 0.9834040496267253\n",
            "F1 Score: 0.9827970263814713\n",
            "Confusion Matrix:\n",
            " [[18201   332]\n",
            " [  309 18310]]\n"
          ]
        }
      ]
    },
    {
      "cell_type": "markdown",
      "source": [
        "Best parameters found:  {'n_estimators': 431, 'max_depth': 10, 'learning_rate': 0.21634512092294234, 'subsample': 0.7482394886713293, 'colsample_bytree': 0.81772527043451, 'gamma': 0.1275540566558938, 'reg_alpha': 0.9905351343649023, 'reg_lambda': 0.6909049987843154}"
      ],
      "metadata": {
        "id": "h9n08-TPmlj2"
      }
    },
    {
      "cell_type": "markdown",
      "source": [
        "# **Selecting the model optimized with Optuna.**\n",
        "\n",
        "Higher Overall Performance:\n",
        "\n",
        "Optuna provides better overall performance on accuracy, precision, recall, and F1 score on the test data, which indicates stronger generalization to unseen data.\n",
        "\n",
        "Balanced Metrics:\n",
        "\n",
        " The balance between precision and recall is better, leading to a higher F1 score. This is crucial in scenarios where both false positives and false negatives have significant consequences."
      ],
      "metadata": {
        "id": "H_hn6Dc_N9X2"
      }
    },
    {
      "cell_type": "markdown",
      "source": [
        "Saving model and scaler in pickle file"
      ],
      "metadata": {
        "id": "oH3W7LclGq4Z"
      }
    },
    {
      "cell_type": "code",
      "source": [
        "with open('xgboost_optimized_model_bayesian.pkl','wb') as model_file:\n",
        "  pickle.dump(optimized_xgb_model,model_file)\n",
        "with open('scaler_optimized_bayesian.pkl','wb') as scaler_file:\n",
        "  pickle.dump(scaler,scaler_file)"
      ],
      "metadata": {
        "id": "FOPv4a6_HQ0D"
      },
      "execution_count": null,
      "outputs": []
    },
    {
      "cell_type": "markdown",
      "source": [
        "# PREDICTIONS"
      ],
      "metadata": {
        "id": "hHjAHKxPA9oH"
      }
    },
    {
      "cell_type": "code",
      "source": [
        "with open('/content/xgboost_optimized_model_bayesian.pkl','rb') as model_file:\n",
        "  optimized_xgb_model=pickle.load(model_file)\n",
        "with open('/content/scaler_optimized_bayesian.pkl','rb') as scaler_file:\n",
        "  scaler=pickle.load(scaler_file)\n",
        "def predict_sepsis(input_features, threshold=0.3):\n",
        "    feature_names = ['HR', 'Resp','Temp', 'DBP', 'SBP', 'MAP', 'O2Sat', 'Age']\n",
        "    input_df = pd.DataFrame([input_features], columns=feature_names)\n",
        "    input_scaled = scaler.transform(input_df)\n",
        "    prediction_proba = optimized_xgb_model.predict_proba(input_scaled)[0][1]\n",
        "    if prediction_proba >= threshold:\n",
        "        return \"The model predicts that the user has sepsis.\"\n",
        "    else:\n",
        "        return \"The model predicts that the user does not have sepsis.\"\n",
        "positive_sepsis_input_no_gender = [113,20,37,81,181,120,96,50]\n",
        "result = predict_sepsis(positive_sepsis_input_no_gender)\n",
        "print(result)"
      ],
      "metadata": {
        "colab": {
          "base_uri": "https://localhost:8080/"
        },
        "id": "2LAOQXjegTle",
        "outputId": "e6108bec-9445-4d26-95bc-13473645b839"
      },
      "execution_count": null,
      "outputs": [
        {
          "output_type": "stream",
          "name": "stdout",
          "text": [
            "0.31966728\n",
            "The model predicts that the user has sepsis.\n"
          ]
        }
      ]
    },
    {
      "cell_type": "markdown",
      "source": [
        "# **FEATURE IMPORTANCE USING SHAP**"
      ],
      "metadata": {
        "id": "jQu6Hb7kzgrr"
      }
    },
    {
      "cell_type": "code",
      "source": [
        "pip install shap"
      ],
      "metadata": {
        "colab": {
          "base_uri": "https://localhost:8080/"
        },
        "id": "kUTbeRVxPl5b",
        "outputId": "230a965a-4f95-4ea9-f3c2-9b8dcb8f6cb8"
      },
      "execution_count": null,
      "outputs": [
        {
          "output_type": "stream",
          "name": "stdout",
          "text": [
            "Collecting shap\n",
            "  Downloading shap-0.46.0-cp310-cp310-manylinux_2_12_x86_64.manylinux2010_x86_64.manylinux_2_17_x86_64.manylinux2014_x86_64.whl.metadata (24 kB)\n",
            "Requirement already satisfied: numpy in /usr/local/lib/python3.10/dist-packages (from shap) (1.26.4)\n",
            "Requirement already satisfied: scipy in /usr/local/lib/python3.10/dist-packages (from shap) (1.13.1)\n",
            "Requirement already satisfied: scikit-learn in /usr/local/lib/python3.10/dist-packages (from shap) (1.3.2)\n",
            "Requirement already satisfied: pandas in /usr/local/lib/python3.10/dist-packages (from shap) (2.1.4)\n",
            "Requirement already satisfied: tqdm>=4.27.0 in /usr/local/lib/python3.10/dist-packages (from shap) (4.66.5)\n",
            "Requirement already satisfied: packaging>20.9 in /usr/local/lib/python3.10/dist-packages (from shap) (24.1)\n",
            "Collecting slicer==0.0.8 (from shap)\n",
            "  Downloading slicer-0.0.8-py3-none-any.whl.metadata (4.0 kB)\n",
            "Requirement already satisfied: numba in /usr/local/lib/python3.10/dist-packages (from shap) (0.60.0)\n",
            "Requirement already satisfied: cloudpickle in /usr/local/lib/python3.10/dist-packages (from shap) (2.2.1)\n",
            "Requirement already satisfied: llvmlite<0.44,>=0.43.0dev0 in /usr/local/lib/python3.10/dist-packages (from numba->shap) (0.43.0)\n",
            "Requirement already satisfied: python-dateutil>=2.8.2 in /usr/local/lib/python3.10/dist-packages (from pandas->shap) (2.8.2)\n",
            "Requirement already satisfied: pytz>=2020.1 in /usr/local/lib/python3.10/dist-packages (from pandas->shap) (2024.1)\n",
            "Requirement already satisfied: tzdata>=2022.1 in /usr/local/lib/python3.10/dist-packages (from pandas->shap) (2024.1)\n",
            "Requirement already satisfied: joblib>=1.1.1 in /usr/local/lib/python3.10/dist-packages (from scikit-learn->shap) (1.4.2)\n",
            "Requirement already satisfied: threadpoolctl>=2.0.0 in /usr/local/lib/python3.10/dist-packages (from scikit-learn->shap) (3.5.0)\n",
            "Requirement already satisfied: six>=1.5 in /usr/local/lib/python3.10/dist-packages (from python-dateutil>=2.8.2->pandas->shap) (1.16.0)\n",
            "Downloading shap-0.46.0-cp310-cp310-manylinux_2_12_x86_64.manylinux2010_x86_64.manylinux_2_17_x86_64.manylinux2014_x86_64.whl (540 kB)\n",
            "\u001b[2K   \u001b[90m━━━━━━━━━━━━━━━━━━━━━━━━━━━━━━━━━━━━━━━━\u001b[0m \u001b[32m540.1/540.1 kB\u001b[0m \u001b[31m15.8 MB/s\u001b[0m eta \u001b[36m0:00:00\u001b[0m\n",
            "\u001b[?25hDownloading slicer-0.0.8-py3-none-any.whl (15 kB)\n",
            "Installing collected packages: slicer, shap\n",
            "Successfully installed shap-0.46.0 slicer-0.0.8\n"
          ]
        }
      ]
    },
    {
      "cell_type": "code",
      "source": [
        "import shap\n",
        "# Initialize and train a XGBoost model\n",
        "xgb_model = XGBClassifier( n_estimators=50, max_depth=5, learning_rate=0.1, random_state=42, use_label_encoder=False, eval_metric='logloss')\n",
        "xgb_model.fit(X_train_scaled, y_train)\n",
        "# Function to automate SHAP analysis...\n",
        "def automate_shap_analysis(model, X_train, feature_names, sample_size=1000, plot_path=\"shap_summary.png\"):\n",
        "    X_sample = shap.utils.sample(X_train, sample_size, random_state=42)\n",
        "    explainer = shap.TreeExplainer(model)\n",
        "    shap_values = explainer.shap_values(X_sample)\n",
        "    shap.summary_plot(shap_values, X_sample, feature_names=feature_names, plot_type=\"bar\", show=False)\n",
        "    plt.title(\"Feature Importance Using SHAP\")\n",
        "    plt.tight_layout()\n",
        "    plt.savefig(plot_path)\n",
        "    plt.close()\n",
        "    return shap_values\n",
        "shap_values = automate_shap_analysis(model=xgb_model,X_train=X_train_scaled,feature_names=X.columns,sample_size=1000, plot_path=\"shap_summary.png\")"
      ],
      "metadata": {
        "colab": {
          "base_uri": "https://localhost:8080/"
        },
        "id": "JWp9-KCVTpLl",
        "outputId": "c61de670-3083-4221-d796-b185b307d7b8"
      },
      "execution_count": null,
      "outputs": [
        {
          "output_type": "stream",
          "name": "stderr",
          "text": [
            "/usr/local/lib/python3.10/dist-packages/xgboost/core.py:158: UserWarning: [12:17:04] WARNING: /workspace/src/learner.cc:740: \n",
            "Parameters: { \"use_label_encoder\" } are not used.\n",
            "\n",
            "  warnings.warn(smsg, UserWarning)\n"
          ]
        }
      ]
    }
  ]
}